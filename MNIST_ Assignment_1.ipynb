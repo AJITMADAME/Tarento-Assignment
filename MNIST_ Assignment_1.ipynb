{
 "cells": [
  {
   "cell_type": "markdown",
   "id": "10fe6eaa",
   "metadata": {},
   "source": [
    "## Importing the Necessary Liabraries"
   ]
  },
  {
   "cell_type": "code",
   "execution_count": 1,
   "id": "b5b9485a",
   "metadata": {},
   "outputs": [
    {
     "data": {
      "text/plain": [
       "'2.11.0'"
      ]
     },
     "execution_count": 1,
     "metadata": {},
     "output_type": "execute_result"
    }
   ],
   "source": [
    "import tensorflow as tf\n",
    "tf.__version__"
   ]
  },
  {
   "cell_type": "code",
   "execution_count": 2,
   "id": "60cf971e",
   "metadata": {},
   "outputs": [],
   "source": [
    "import numpy as np\n",
    "import cv2\n",
    "from matplotlib import pyplot as plt\n",
    "from keras.models import Sequential\n",
    "from keras.layers import Dense, Dropout, Activation, Flatten\n",
    "from keras.layers import Conv2D, MaxPooling2D\n",
    "from keras import utils\n",
    "from keras.utils import np_utils\n",
    "import keras\n",
    "from keras.datasets import mnist"
   ]
  },
  {
   "cell_type": "code",
   "execution_count": 3,
   "id": "bfb8afcf",
   "metadata": {},
   "outputs": [],
   "source": [
    "from tensorflow.keras.layers import BatchNormalization"
   ]
  },
  {
   "cell_type": "code",
   "execution_count": 4,
   "id": "8f12ec62",
   "metadata": {},
   "outputs": [],
   "source": [
    "from keras.utils import plot_model"
   ]
  },
  {
   "cell_type": "markdown",
   "id": "426f5f83",
   "metadata": {},
   "source": [
    "## Load the data set"
   ]
  },
  {
   "cell_type": "code",
   "execution_count": 5,
   "id": "95a5023f",
   "metadata": {},
   "outputs": [],
   "source": [
    "# Load the dataset and split into test and train\n",
    "(X_train, y_train), (X_test, y_test) = mnist.load_data()"
   ]
  },
  {
   "cell_type": "code",
   "execution_count": 6,
   "id": "3df5b3dc",
   "metadata": {},
   "outputs": [
    {
     "data": {
      "text/plain": [
       "(60000, 28, 28)"
      ]
     },
     "execution_count": 6,
     "metadata": {},
     "output_type": "execute_result"
    }
   ],
   "source": [
    "# Checking the shape\n",
    "X_train.shape"
   ]
  },
  {
   "cell_type": "code",
   "execution_count": 7,
   "id": "c0640f9b",
   "metadata": {},
   "outputs": [
    {
     "data": {
      "image/png": "[encoded data removed]",
      "text/plain": [
       "<Figure size 2000x400 with 10 Axes>"
      ]
     },
     "metadata": {},
     "output_type": "display_data"
    }
   ],
   "source": [
    "fig, axes = plt.subplots(ncols=10, sharex=False,\n",
    "        sharey=True, figsize=(20,4))\n",
    "for i in range(10):\n",
    "    axes[i].set_title(y_train[i])\n",
    "    axes[i].imshow(X_train[i], cmap='gray')\n",
    "    axes[i].get_xaxis().set_visible(False) # the values of axis not showing\n",
    "    axes[i].get_yaxis().set_visible(False)\n",
    "plt.show()\n",
    "     "
   ]
  },
  {
   "cell_type": "code",
   "execution_count": 8,
   "id": "d90adcc8",
   "metadata": {},
   "outputs": [],
   "source": [
    "# Changing the shape\n",
    "X_train = X_train.reshape(X_train.shape[0],28, 28, 1) # reshape the train data\n",
    "X_test = X_test.reshape(X_test.shape[0], 28, 28, 1) # reshape the test data"
   ]
  },
  {
   "cell_type": "markdown",
   "id": "d10af833",
   "metadata": {},
   "source": [
    " - We add 1 at the end because it has grey image and it has only 1 channel. thatwhy I add 1 at the end.\n",
    " - If we have RBG image thenwe used or add 3 at end."
   ]
  },
  {
   "cell_type": "code",
   "execution_count": 9,
   "id": "733808e7",
   "metadata": {},
   "outputs": [
    {
     "data": {
      "text/plain": [
       "(60000, 28, 28, 1)"
      ]
     },
     "execution_count": 9,
     "metadata": {},
     "output_type": "execute_result"
    }
   ],
   "source": [
    "# Checking sfter the reshaping\n",
    "X_train.shape"
   ]
  },
  {
   "cell_type": "code",
   "execution_count": 10,
   "id": "54256fcc",
   "metadata": {},
   "outputs": [],
   "source": [
    "# Keeping data types Same\n",
    "X_train = X_train.astype('float32') # Keeping datatype same for both train and test\n",
    "X_test = X_test.astype('float32')\n",
    "\n",
    "# Normalizing the train and test\n",
    "X_train /= 255     \n",
    "X_test /= 255\n",
    "\n",
    "# Converting into categorical values\n",
    "Y_train = np_utils.to_categorical(y_train, 10)\n",
    "Y_test = np_utils.to_categorical(y_test, 10)\n",
    "     "
   ]
  },
  {
   "cell_type": "markdown",
   "id": "6c7770fb",
   "metadata": {},
   "source": [
    "- keeping the data type of train and test image as same brcause it will become easier to convoluting the whole thing when our input and output as in same data type\n",
    "- x_train /= 250 due to this our values should be lies in 0 to 1"
   ]
  },
  {
   "cell_type": "code",
   "execution_count": 11,
   "id": "0d30b581",
   "metadata": {},
   "outputs": [
    {
     "data": {
      "text/plain": [
       "array([0., 0., 0., 0., 0., 1., 0., 0., 0., 0.], dtype=float32)"
      ]
     },
     "execution_count": 11,
     "metadata": {},
     "output_type": "execute_result"
    }
   ],
   "source": [
    "# after normalizing \n",
    "Y_train[0]"
   ]
  },
  {
   "cell_type": "markdown",
   "id": "23d85777",
   "metadata": {},
   "source": [
    "## Model Building"
   ]
  },
  {
   "cell_type": "code",
   "execution_count": 12,
   "id": "bef742b6",
   "metadata": {},
   "outputs": [],
   "source": [
    "# Model Building\n",
    "model=Sequential()\n",
    "\n",
    "   \n",
    "model.add(Conv2D(filters=64, kernel_size = (3,3), activation=\"relu\", input_shape=(28,28,1)))\n",
    "model.add(Conv2D(filters=64, kernel_size = (3,3), activation=\"relu\"))\n",
    "model.add(MaxPooling2D(pool_size=(2,2)))\n",
    "model.add(BatchNormalization())\n",
    "\n",
    "model.add(Conv2D(filters=128, kernel_size = (3,3), activation=\"relu\"))\n",
    "model.add(Conv2D(filters=128, kernel_size = (3,3), activation=\"relu\"))\n",
    "model.add(MaxPooling2D(pool_size=(2,2)))\n",
    "model.add(BatchNormalization())    \n",
    "\n",
    "model.add(Conv2D(filters=256, kernel_size = (3,3), activation=\"relu\"))\n",
    "model.add(MaxPooling2D(pool_size=(2,2)))\n",
    "model.add(BatchNormalization())\n",
    "    \n",
    "model.add(Flatten())\n",
    "model.add(Dense(512,activation=\"relu\"))\n",
    "    \n",
    "model.add(Dense(10,activation=\"softmax\"))\n",
    "    \n",
    "model.compile(loss=\"categorical_crossentropy\", optimizer=\"adam\", metrics=[\"accuracy\"])"
   ]
  },
  {
   "cell_type": "markdown",
   "id": "ca6137a1",
   "metadata": {},
   "source": [
    "- The first is the convolutional (Conv2D) layer. It is like a set of learnable filters. I choosed to set 32 filters for the two firsts conv2D layers and 64 filters for the two second layers and 128 filters for two third layers and 256 for the last ones. Each filter transforms a part of the image (defined by the kernel size) using the kernel filter. The kernel filter matrix is applied on the whole image. Filters can be seen as a transformation of the image.\n",
    "\n",
    "- The CNN can isolate features that are useful everywhere from these transformed images (feature maps).\n",
    "\n",
    "- The second important layer in CNN is the pooling (MaxPool2D) layer. This layer simply acts as a downsampling filter. It looks at the 2 neighboring pixels and picks the maximal value. These are used to reduce computational cost, and to some extent also reduce overfitting. We have to choose the pooling size (i.e the area size pooled each time) more the pooling dimension is high, more the downsampling is important.\n",
    "\n",
    "- Combining convolutional and pooling layers, CNN are able to combine local features and learn more global features of the image.\n",
    "\n",
    "- 'relu' is the rectifier (activation function max(0,x). The rectifier activation function is used to add non linearity to the network.\n",
    "\n",
    "- The Flatten layer is use to convert the final feature maps into a one single 1D vector. This flattening step is needed so that you can make use of fully connected layers after some convolutional/maxpool layers. It combines all the found local features of the previous convolutional layers.\n",
    "\n",
    "- In the end i used the features in two fully-connected (Dense) layers which is just artificial an neural networks (ANN) classifier. In the last layer(Dense(10,activation=\"softmax\")) the net outputs distribution of probability of each class."
   ]
  },
  {
   "cell_type": "code",
   "execution_count": 13,
   "id": "19eda991",
   "metadata": {},
   "outputs": [
    {
     "name": "stdout",
     "output_type": "stream",
     "text": [
      "Epoch 1/10\n",
      "1875/1875 [==============================] - 354s 187ms/step - loss: 0.0963 - accuracy: 0.9719 - val_loss: 0.0544 - val_accuracy: 0.9844\n",
      "Epoch 2/10\n",
      "1875/1875 [==============================] - 354s 189ms/step - loss: 0.0497 - accuracy: 0.9854 - val_loss: 0.0451 - val_accuracy: 0.9870\n",
      "Epoch 3/10\n",
      "1875/1875 [==============================] - 356s 190ms/step - loss: 0.0372 - accuracy: 0.9893 - val_loss: 0.0369 - val_accuracy: 0.9890\n",
      "Epoch 4/10\n",
      "1875/1875 [==============================] - 352s 188ms/step - loss: 0.0307 - accuracy: 0.9906 - val_loss: 0.0472 - val_accuracy: 0.9852\n",
      "Epoch 5/10\n",
      "1875/1875 [==============================] - 353s 188ms/step - loss: 0.0268 - accuracy: 0.9919 - val_loss: 0.0238 - val_accuracy: 0.9937\n",
      "Epoch 6/10\n",
      "1875/1875 [==============================] - 353s 188ms/step - loss: 0.0225 - accuracy: 0.9935 - val_loss: 0.0272 - val_accuracy: 0.9914\n",
      "Epoch 7/10\n",
      "1875/1875 [==============================] - 353s 188ms/step - loss: 0.0193 - accuracy: 0.9944 - val_loss: 0.0247 - val_accuracy: 0.9932\n",
      "Epoch 8/10\n",
      "1875/1875 [==============================] - 351s 187ms/step - loss: 0.0153 - accuracy: 0.9953 - val_loss: 0.0322 - val_accuracy: 0.9915\n",
      "Epoch 9/10\n",
      "1875/1875 [==============================] - 353s 188ms/step - loss: 0.0144 - accuracy: 0.9956 - val_loss: 0.0331 - val_accuracy: 0.9926\n",
      "Epoch 10/10\n",
      "1875/1875 [==============================] - 352s 188ms/step - loss: 0.0133 - accuracy: 0.9959 - val_loss: 0.0209 - val_accuracy: 0.9948\n"
     ]
    },
    {
     "data": {
      "text/plain": [
       "<keras.callbacks.History at 0x240f0464a60>"
      ]
     },
     "execution_count": 13,
     "metadata": {},
     "output_type": "execute_result"
    }
   ],
   "source": [
    "# Compile the model\n",
    "model.compile(loss='categorical_crossentropy', optimizer='adam', metrics=['accuracy'])\n",
    "\n",
    "# Fit the model\n",
    "model.fit(X_train, Y_train, batch_size=32, epochs=10, verbose=1, validation_data=(X_test, Y_test))\n",
    "     "
   ]
  },
  {
   "cell_type": "code",
   "execution_count": 14,
   "id": "e0b4c730",
   "metadata": {},
   "outputs": [],
   "source": [
    "# Saving the model\n",
    "model.save('mnist_cnn_model.h5')"
   ]
  },
  {
   "cell_type": "code",
   "execution_count": 15,
   "id": "915de011",
   "metadata": {},
   "outputs": [
    {
     "data": {
      "text/plain": [
       "<matplotlib.legend.Legend at 0x24080217dc0>"
      ]
     },
     "execution_count": 15,
     "metadata": {},
     "output_type": "execute_result"
    },
    {
     "data": {
      "image/png": "[encoded data removed]",
      "text/plain": [
       "<Figure size 500x300 with 1 Axes>"
      ]
     },
     "metadata": {},
     "output_type": "display_data"
    }
   ],
   "source": [
    "# Ploting the loss \n",
    "plt.figure(figsize=(5,3))\n",
    "plt.plot(model.history.history['loss'], label='Train Loss')\n",
    "plt.plot(model.history.history['val_loss'], label='Validation Loss')\n",
    "plt.legend()"
   ]
  },
  {
   "cell_type": "markdown",
   "id": "e27b6dfe",
   "metadata": {},
   "source": [
    "- We can see that, Train Loss and Validation loss has less difference."
   ]
  },
  {
   "cell_type": "code",
   "execution_count": 16,
   "id": "796dbed7",
   "metadata": {},
   "outputs": [
    {
     "data": {
      "text/plain": [
       "<matplotlib.legend.Legend at 0x2408012e640>"
      ]
     },
     "execution_count": 16,
     "metadata": {},
     "output_type": "execute_result"
    },
    {
     "data": {
      "image/png": "[encoded data removed]",
      "text/plain": [
       "<Figure size 500x300 with 1 Axes>"
      ]
     },
     "metadata": {},
     "output_type": "display_data"
    }
   ],
   "source": [
    "# ploting the accuracy\n",
    "plt.figure(figsize=(5,3))\n",
    "plt.plot(model.history.history['accuracy'], label='Train acc')\n",
    "plt.plot(model.history.history['val_accuracy'], label='Validation acc')\n",
    "plt.legend()\n",
    "     "
   ]
  },
  {
   "cell_type": "markdown",
   "id": "a0af6a7d",
   "metadata": {},
   "source": [
    " - See, the train accuracy and testy accuracy has less difference."
   ]
  },
  {
   "cell_type": "code",
   "execution_count": 17,
   "id": "33fe4010",
   "metadata": {},
   "outputs": [],
   "source": [
    "# Loading the model\n",
    "model = keras.models.load_model('mnist_cnn_model.h5')\n",
    "     "
   ]
  },
  {
   "cell_type": "markdown",
   "id": "70da80fe",
   "metadata": {},
   "source": [
    "## Testing the Model"
   ]
  },
  {
   "cell_type": "code",
   "execution_count": 18,
   "id": "432308f4",
   "metadata": {},
   "outputs": [
    {
     "name": "stdout",
     "output_type": "stream",
     "text": [
      "1/1 [==============================] - 0s 287ms/step\n"
     ]
    },
    {
     "data": {
      "text/plain": [
       "1"
      ]
     },
     "execution_count": 18,
     "metadata": {},
     "output_type": "execute_result"
    }
   ],
   "source": [
    "# testing the model\n",
    "x = np.reshape(X_test[2], (1, 28, 28, 1))\n",
    "\n",
    "np.argmax(model.predict(x))\n",
    "     "
   ]
  },
  {
   "cell_type": "code",
   "execution_count": null,
   "id": "39bd1846",
   "metadata": {},
   "outputs": [],
   "source": []
  }
 ],
 "metadata": {
  "kernelspec": {
   "display_name": "Python 3 (ipykernel)",
   "language": "python",
   "name": "python3"
  },
  "language_info": {
   "codemirror_mode": {
    "name": "ipython",
    "version": 3
   },
   "file_extension": ".py",
   "mimetype": "text/x-python",
   "name": "python",
   "nbconvert_exporter": "python",
   "pygments_lexer": "ipython3",
   "version": "3.9.13"
  }
 },
 "nbformat": 4,
 "nbformat_minor": 5
}
